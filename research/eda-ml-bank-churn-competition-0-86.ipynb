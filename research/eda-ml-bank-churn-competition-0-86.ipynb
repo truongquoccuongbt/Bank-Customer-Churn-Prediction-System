{
 "cells": [
  {
   "cell_type": "code",
   "execution_count": 1,
   "id": "e4700c77",
   "metadata": {
    "papermill": {
     "duration": 2.267202,
     "end_time": "2024-11-12T16:37:09.016432",
     "exception": false,
     "start_time": "2024-11-12T16:37:06.749230",
     "status": "completed"
    },
    "tags": []
   },
   "outputs": [],
   "source": [
    "import numpy as np\n",
    "import pandas as pd\n",
    "import matplotlib.pyplot as plt\n",
    "import seaborn as sns\n",
    "sns.set_theme()\n",
    "\n",
    "from sklearn.preprocessing import LabelEncoder , StandardScaler , OneHotEncoder , OrdinalEncoder\n",
    "from sklearn.compose import ColumnTransformer\n",
    "from sklearn.model_selection import train_test_split\n",
    "import mlflow\n",
    "import mlflow.sklearn\n",
    "from mlflow.models import infer_signature"
   ]
  },
  {
   "cell_type": "code",
   "execution_count": 2,
   "id": "9af749d6-fe8e-44b2-b0f2-a68c0dc2c6df",
   "metadata": {},
   "outputs": [
    {
     "name": "stderr",
     "output_type": "stream",
     "text": [
      "2024/12/15 13:30:48 INFO mlflow.tracking.fluent: Autologging successfully enabled for sklearn.\n",
      "2024/12/15 13:30:48 WARNING mlflow.utils.git_utils: Failed to import Git (the Git executable is probably not on your PATH), so Git SHA is not available. Error: Failed to initialize: Bad git executable.\n",
      "The git executable must be specified in one of the following ways:\n",
      "    - be included in your $PATH\n",
      "    - be set via $GIT_PYTHON_GIT_EXECUTABLE\n",
      "    - explicitly set via git.refresh(<full-path-to-git-executable>)\n",
      "\n",
      "All git commands will error until this is rectified.\n",
      "\n",
      "This initial message can be silenced or aggravated in the future by setting the\n",
      "$GIT_PYTHON_REFRESH environment variable. Use one of the following values:\n",
      "    - quiet|q|silence|s|silent|none|n|0: for no message or exception\n",
      "    - warn|w|warning|log|l|1: for a warning message (logging level CRITICAL, displayed by default)\n",
      "    - error|e|exception|raise|r|2: for a raised exception\n",
      "\n",
      "Example:\n",
      "    export GIT_PYTHON_REFRESH=quiet\n",
      "\n"
     ]
    }
   ],
   "source": [
    "mlflow.set_tracking_uri(\"http://mlflow_server:5000\")\n",
    "mlflow.autolog()\n",
    "mlflow.set_experiment(\"bank_churn\")\n",
    "mlflow.set_tag('mlflow.runName', 'bank_chunr_v1')"
   ]
  },
  {
   "cell_type": "code",
   "execution_count": 3,
   "id": "f89b88d2-6957-46e7-9839-5556d2c8994b",
   "metadata": {},
   "outputs": [],
   "source": [
    "data = pd.read_csv('data/train.csv')"
   ]
  },
  {
   "cell_type": "code",
   "execution_count": 4,
   "id": "f0beabab",
   "metadata": {
    "papermill": {
     "duration": 0.025946,
     "end_time": "2024-11-12T16:37:09.757744",
     "exception": false,
     "start_time": "2024-11-12T16:37:09.731798",
     "status": "completed"
    },
    "tags": []
   },
   "outputs": [],
   "source": [
    "data = data.drop(['id','CustomerId','Surname'] , axis = 1)"
   ]
  },
  {
   "cell_type": "code",
   "execution_count": 5,
   "id": "5f1819b2",
   "metadata": {
    "papermill": {
     "duration": 0.017223,
     "end_time": "2024-11-12T16:37:09.953562",
     "exception": false,
     "start_time": "2024-11-12T16:37:09.936339",
     "status": "completed"
    },
    "tags": []
   },
   "outputs": [],
   "source": [
    "category_features = ['Tenure', 'NumOfProducts','HasCrCard','IsActiveMember','Geography','Gender']"
   ]
  },
  {
   "cell_type": "code",
   "execution_count": 6,
   "id": "2dbbf151",
   "metadata": {
    "papermill": {
     "duration": 0.016997,
     "end_time": "2024-11-12T16:37:09.980500",
     "exception": false,
     "start_time": "2024-11-12T16:37:09.963503",
     "status": "completed"
    },
    "tags": []
   },
   "outputs": [],
   "source": [
    "def convert_to_category(data,features):\n",
    "    for i in features:\n",
    "        data[i] = data[i].astype('category')"
   ]
  },
  {
   "cell_type": "code",
   "execution_count": 7,
   "id": "fb22f8c6",
   "metadata": {
    "papermill": {
     "duration": 0.056076,
     "end_time": "2024-11-12T16:37:10.046840",
     "exception": false,
     "start_time": "2024-11-12T16:37:09.990764",
     "status": "completed"
    },
    "tags": []
   },
   "outputs": [],
   "source": [
    "convert_to_category(data,category_features)"
   ]
  },
  {
   "cell_type": "code",
   "execution_count": 8,
   "id": "bd6d53e4",
   "metadata": {
    "papermill": {
     "duration": 0.025565,
     "end_time": "2024-11-12T16:37:10.130121",
     "exception": false,
     "start_time": "2024-11-12T16:37:10.104556",
     "status": "completed"
    },
    "tags": []
   },
   "outputs": [
    {
     "data": {
      "text/plain": [
       "Index(['CreditScore', 'Age', 'Balance', 'EstimatedSalary'], dtype='object')"
      ]
     },
     "execution_count": 8,
     "metadata": {},
     "output_type": "execute_result"
    }
   ],
   "source": [
    "numberic_features = data.drop(category_features , axis = 1).columns\n",
    "numberic_features = data[numberic_features].drop('Exited' , axis = 1).columns\n",
    "numberic_features"
   ]
  },
  {
   "cell_type": "code",
   "execution_count": 9,
   "id": "bc2e1c62",
   "metadata": {
    "papermill": {
     "duration": 0.027062,
     "end_time": "2024-11-12T16:37:18.627890",
     "exception": false,
     "start_time": "2024-11-12T16:37:18.600828",
     "status": "completed"
    },
    "tags": []
   },
   "outputs": [],
   "source": [
    "balance_cut = pd.cut(data['Balance'] ,bins = [-1 , 50000 , 100000 ,150000, data['Balance'].max()],\n",
    "                     labels = ['Low','Normal','High','Very High'])"
   ]
  },
  {
   "cell_type": "code",
   "execution_count": 10,
   "id": "ea4c7cbd",
   "metadata": {
    "papermill": {
     "duration": 0.027389,
     "end_time": "2024-11-12T16:37:19.024140",
     "exception": false,
     "start_time": "2024-11-12T16:37:18.996751",
     "status": "completed"
    },
    "tags": []
   },
   "outputs": [],
   "source": [
    "exited_old_age = data.loc[(data.Age >= 40) & (data.Exited == 1)]['Age'] \n",
    "exited_young_age = data.loc[(data.Age < 40) & (data.Exited == 1)]['Age']"
   ]
  },
  {
   "cell_type": "code",
   "execution_count": 11,
   "id": "c2543954",
   "metadata": {
    "papermill": {
     "duration": 0.027004,
     "end_time": "2024-11-12T16:37:19.065420",
     "exception": false,
     "start_time": "2024-11-12T16:37:19.038416",
     "status": "completed"
    },
    "tags": []
   },
   "outputs": [
    {
     "name": "stdout",
     "output_type": "stream",
     "text": [
      "Result: H1\n"
     ]
    },
    {
     "name": "stderr",
     "output_type": "stream",
     "text": [
      "/usr/local/lib/python3.12/dist-packages/numpy/core/_methods.py:206: RuntimeWarning: Degrees of freedom <= 0 for slice\n",
      "  ret = _var(a, axis=axis, dtype=dtype, out=out, ddof=ddof,\n",
      "/usr/local/lib/python3.12/dist-packages/numpy/core/_methods.py:198: RuntimeWarning: invalid value encountered in scalar divide\n",
      "  ret = ret.dtype.type(ret / rcount)\n"
     ]
    }
   ],
   "source": [
    "mean1, mean2 = np.mean(exited_old_age), np.mean(exited_young_age)\n",
    "std1, std2 = np.std(exited_old_age.std(), ddof=1), np.std(exited_young_age.std(), ddof=1)\n",
    "n1, n2 = len(exited_old_age), len(exited_young_age)\n",
    "\n",
    "z = (mean1 - mean2) / np.sqrt((std1**2/n1) + (std2**2/n2))\n",
    "\n",
    "# alpha = 0.05 2 phía\n",
    "if z <= 1.645:\n",
    "    result = \"H0\"\n",
    "else:\n",
    "    result = \"H1\"\n",
    "\n",
    "print(f'Result: {result}')"
   ]
  },
  {
   "cell_type": "markdown",
   "id": "2c684920",
   "metadata": {
    "papermill": {
     "duration": 0.014114,
     "end_time": "2024-11-12T16:37:19.094084",
     "exception": false,
     "start_time": "2024-11-12T16:37:19.079970",
     "status": "completed"
    },
    "tags": []
   },
   "source": [
    "#### P(exited) : Mean Old age people > Mean Young age people (alpha = 0.05)"
   ]
  },
  {
   "cell_type": "code",
   "execution_count": 12,
   "id": "fdfdfcd1",
   "metadata": {
    "papermill": {
     "duration": 0.047724,
     "end_time": "2024-11-12T16:37:24.358685",
     "exception": false,
     "start_time": "2024-11-12T16:37:24.310961",
     "status": "completed"
    },
    "tags": []
   },
   "outputs": [
    {
     "name": "stdout",
     "output_type": "stream",
     "text": [
      "(132027, 10) (132027,)\n",
      "(33007, 10) (33007,)\n"
     ]
    }
   ],
   "source": [
    "x_train,x_test,y_train,y_test = train_test_split(data.drop('Exited', axis = 1),data['Exited'], \n",
    "                                test_size = 0.2, \n",
    "                                shuffle = True , random_state = 42)\n",
    "\n",
    "print(x_train.shape , y_train.shape)\n",
    "print(x_test.shape , y_test.shape)"
   ]
  },
  {
   "cell_type": "code",
   "execution_count": 13,
   "id": "3607f554",
   "metadata": {
    "papermill": {
     "duration": 0.287099,
     "end_time": "2024-11-12T16:37:24.666388",
     "exception": false,
     "start_time": "2024-11-12T16:37:24.379289",
     "status": "completed"
    },
    "tags": []
   },
   "outputs": [],
   "source": [
    "transformer = ColumnTransformer(transformers=[\n",
    "    ('num_transformer' , StandardScaler() , numberic_features),\n",
    "    ('ord_transformer' , OrdinalEncoder() , ['Gender']),\n",
    "    ('nom_transformer' , OneHotEncoder(drop = 'first') , ['Geography'])\n",
    "] , remainder='passthrough')\n",
    "\n",
    "x_train_new = transformer.fit_transform(x_train)\n",
    "x_test_new = transformer.transform(x_test)\n",
    "# data_test_new = transformer.transform(data_test)"
   ]
  },
  {
   "cell_type": "code",
   "execution_count": 14,
   "id": "e4f080f6",
   "metadata": {
    "papermill": {
     "duration": 2.732379,
     "end_time": "2024-11-12T16:37:27.425308",
     "exception": false,
     "start_time": "2024-11-12T16:37:24.692929",
     "status": "completed"
    },
    "tags": []
   },
   "outputs": [],
   "source": [
    "# import xgboost as xgb\n",
    "\n",
    "# xgboost = xgb.XGBClassifier(n_estimators=300, random_state=42)\n",
    "# xgboost.fit(x_train_new, y_train)"
   ]
  },
  {
   "cell_type": "code",
   "execution_count": 15,
   "id": "ac666187",
   "metadata": {
    "papermill": {
     "duration": 22.049167,
     "end_time": "2024-11-12T16:37:49.495466",
     "exception": false,
     "start_time": "2024-11-12T16:37:27.446299",
     "status": "completed"
    },
    "tags": []
   },
   "outputs": [],
   "source": [
    "# from sklearn.ensemble import RandomForestClassifier\n",
    "\n",
    "# # Khởi tạo mô hình Random Forest\n",
    "# rf = RandomForestClassifier(random_state=42)\n",
    "\n",
    "# # Huấn luyện mô hình\n",
    "# rf.fit(x_train_new, y_train)"
   ]
  },
  {
   "cell_type": "code",
   "execution_count": 27,
   "id": "0b0bf80a",
   "metadata": {
    "papermill": {
     "duration": 0.029996,
     "end_time": "2024-11-12T16:37:49.546675",
     "exception": false,
     "start_time": "2024-11-12T16:37:49.516679",
     "status": "completed"
    },
    "tags": []
   },
   "outputs": [],
   "source": [
    "from sklearn.metrics import classification_report , precision_score , recall_score , accuracy_score , f1_score\n",
    "\n",
    "models = [rf]\n",
    "\n",
    "def evalution(models ,x_test, y_test):\n",
    "    for i in models:\n",
    "        y_pred = i.predict(x_test)\n",
    "        \n",
    "        print(i)\n",
    "        \n",
    "        accuracy = accuracy_score(y_test,y_pred)\n",
    "        print(accuracy)\n",
    "        \n",
    "        precision = precision_score(y_test,y_pred)\n",
    "        print(precision)\n",
    "\n",
    "        recall = recall_score(y_test,y_pred)\n",
    "        print(recall)\n",
    "\n",
    "        f1 = f1_score(y_test,y_pred)\n",
    "        print(f1)\n",
    "\n",
    "        result = classification_report(y_test,y_pred)\n",
    "        print(result)\n"
   ]
  },
  {
   "cell_type": "code",
   "execution_count": 17,
   "id": "24f8d719",
   "metadata": {
    "papermill": {
     "duration": 1.226084,
     "end_time": "2024-11-12T16:37:50.793293",
     "exception": false,
     "start_time": "2024-11-12T16:37:49.567209",
     "status": "completed"
    },
    "tags": []
   },
   "outputs": [],
   "source": [
    "# evalution(models , x_test_new , y_test)"
   ]
  },
  {
   "cell_type": "code",
   "execution_count": 18,
   "id": "befb70eb",
   "metadata": {
    "papermill": {
     "duration": 0.12732,
     "end_time": "2024-11-12T16:37:50.942245",
     "exception": false,
     "start_time": "2024-11-12T16:37:50.814925",
     "status": "completed"
    },
    "tags": []
   },
   "outputs": [],
   "source": [
    "# data_test = data_test.drop(['id','CustomerId','Surname'], axis = 1)\n",
    "# data_test_new = transformer.transform(data_test)"
   ]
  },
  {
   "cell_type": "code",
   "execution_count": 19,
   "id": "08243a66",
   "metadata": {
    "papermill": {
     "duration": 0.279097,
     "end_time": "2024-11-12T16:37:51.242971",
     "exception": false,
     "start_time": "2024-11-12T16:37:50.963874",
     "status": "completed"
    },
    "tags": []
   },
   "outputs": [],
   "source": [
    "# y_pred_proba = xgboost.predict(data_test_new)"
   ]
  },
  {
   "cell_type": "code",
   "execution_count": 20,
   "id": "bac1e07a",
   "metadata": {
    "papermill": {
     "duration": 0.143085,
     "end_time": "2024-11-12T16:37:51.408909",
     "exception": false,
     "start_time": "2024-11-12T16:37:51.265824",
     "status": "completed"
    },
    "tags": []
   },
   "outputs": [],
   "source": [
    "# submission_pd = pd.DataFrame({'id': data_test.iloc[:,0] , 'Excited': y_pred_proba})\n",
    "\n",
    "# submission = submission_pd.to_csv('submission.csv' , index = False)"
   ]
  },
  {
   "cell_type": "code",
   "execution_count": 33,
   "id": "ddade81b-93e7-4aa5-80e7-c6829612981b",
   "metadata": {},
   "outputs": [
    {
     "name": "stderr",
     "output_type": "stream",
     "text": [
      "2024/12/15 13:45:08 WARNING mlflow.sklearn: Failed to log training dataset information to MLflow Tracking. Reason: 'Series' object has no attribute 'flatten'\n"
     ]
    },
    {
     "name": "stdout",
     "output_type": "stream",
     "text": [
      "🏃 View run likeable-vole-69 at: http://mlflow_server:5000/#/experiments/0/runs/27ebdac888a74458a2d13d176bae222c\n",
      "🧪 View experiment at: http://mlflow_server:5000/#/experiments/0\n",
      "Model saved in run 1b637062020d4da79e3c7866bfd6a3aa\n",
      "🏃 View run rumbling-hawk-497 at: http://mlflow_server:5000/#/experiments/0/runs/1b637062020d4da79e3c7866bfd6a3aa\n",
      "🧪 View experiment at: http://mlflow_server:5000/#/experiments/0\n"
     ]
    }
   ],
   "source": [
    "from sklearn.ensemble import RandomForestRegressor\n",
    "from sklearn.ensemble import RandomForestClassifier\n",
    "mlflow.end_run()\n",
    "with mlflow.start_run():\n",
    "    # Khởi tạo mô hình Random Forest\n",
    "    rf = RandomForestClassifier(random_state=42)\n",
    "    # Huấn luyện mô hình\n",
    "    rf.fit(x_train_new, y_train)\n",
    "    predictions = rf.predict(x_test_new)\n",
    "    signature = infer_signature(x_test_new, predictions)\n",
    "    mlflow.sklearn.log_model(rf, \"model\", signature=signature)\n",
    "    print(f\"Model saved in run {mlflow.active_run().info.run_uuid}\")\n",
    "# rf = RandomForestRegressor(n_estimators=100, max_depth=6, max_features=3)\n",
    "# rf.fit(x_train_new, y_train)\n"
   ]
  },
  {
   "cell_type": "code",
   "execution_count": 32,
   "id": "dec7b21e-5bf9-45fb-8cfe-133f24bc702e",
   "metadata": {},
   "outputs": [
    {
     "name": "stdout",
     "output_type": "stream",
     "text": [
      "Model saved in run 27ebdac888a74458a2d13d176bae222c\n"
     ]
    }
   ],
   "source": []
  },
  {
   "cell_type": "code",
   "execution_count": 35,
   "id": "75bad2fe-ff21-438b-9d33-014c5bffbd12",
   "metadata": {},
   "outputs": [],
   "source": [
    "logged_model = 'runs:/1b637062020d4da79e3c7866bfd6a3aa/model'\n",
    "# Load model as a PyFuncModel.\n",
    "loaded_model = mlflow.pyfunc.load_model(logged_model)\n",
    "# Predict on a Pandas DataFrame.\n",
    "pre = loaded_model.predict(x_test_new)"
   ]
  },
  {
   "cell_type": "code",
   "execution_count": 37,
   "id": "f7e0a8c4-1755-4349-a129-3ee21669e529",
   "metadata": {},
   "outputs": [
    {
     "data": {
      "text/plain": [
       "33007"
      ]
     },
     "execution_count": 37,
     "metadata": {},
     "output_type": "execute_result"
    }
   ],
   "source": [
    "len(pre)"
   ]
  },
  {
   "cell_type": "code",
   "execution_count": null,
   "id": "db5d7101-7e2a-45de-b8ed-e115f3cbc268",
   "metadata": {},
   "outputs": [],
   "source": []
  }
 ],
 "metadata": {
  "kaggle": {
   "accelerator": "gpu",
   "dataSources": [
    {
     "databundleVersionId": 7405009,
     "sourceId": 65711,
     "sourceType": "competition"
    }
   ],
   "dockerImageVersionId": 30761,
   "isGpuEnabled": true,
   "isInternetEnabled": false,
   "language": "python",
   "sourceType": "notebook"
  },
  "kernelspec": {
   "display_name": "Python 3 (ipykernel)",
   "language": "python",
   "name": "python3"
  },
  "language_info": {
   "codemirror_mode": {
    "name": "ipython",
    "version": 3
   },
   "file_extension": ".py",
   "mimetype": "text/x-python",
   "name": "python",
   "nbconvert_exporter": "python",
   "pygments_lexer": "ipython3",
   "version": "3.12.3"
  },
  "papermill": {
   "default_parameters": {},
   "duration": 47.972508,
   "end_time": "2024-11-12T16:37:52.049399",
   "environment_variables": {},
   "exception": null,
   "input_path": "__notebook__.ipynb",
   "output_path": "__notebook__.ipynb",
   "parameters": {},
   "start_time": "2024-11-12T16:37:04.076891",
   "version": "2.6.0"
  }
 },
 "nbformat": 4,
 "nbformat_minor": 5
}
