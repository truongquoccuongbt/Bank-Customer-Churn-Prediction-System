{
 "cells": [
  {
   "cell_type": "code",
   "execution_count": 2,
   "id": "5d5dea3c-a85f-4728-81f4-753b99bdc864",
   "metadata": {},
   "outputs": [],
   "source": [
    "import mlflow"
   ]
  },
  {
   "cell_type": "code",
   "execution_count": 4,
   "id": "5d032c40-fcef-4186-8c62-e40d4563287c",
   "metadata": {},
   "outputs": [
    {
     "data": {
      "text/plain": [
       "<Experiment: artifact_location='mlflow-artifacts:/1', creation_time=1730624583283, experiment_id='1', last_update_time=1730624583283, lifecycle_stage='active', name='bank_churn', tags={}>"
      ]
     },
     "execution_count": 4,
     "metadata": {},
     "output_type": "execute_result"
    }
   ],
   "source": [
    "mlflow.set_tracking_uri(\"http://mlflow_server:5000\")\n",
    "mlflow.autolog()\n",
    "mlflow.set_experiment(\"bank_churn\")"
   ]
  },
  {
   "cell_type": "code",
   "execution_count": null,
   "id": "187241f9-6e2f-43cf-ae3b-aa09462e4ae9",
   "metadata": {},
   "outputs": [],
   "source": []
  }
 ],
 "metadata": {
  "kernelspec": {
   "display_name": "Python 3 (ipykernel)",
   "language": "python",
   "name": "python3"
  },
  "language_info": {
   "codemirror_mode": {
    "name": "ipython",
    "version": 3
   },
   "file_extension": ".py",
   "mimetype": "text/x-python",
   "name": "python",
   "nbconvert_exporter": "python",
   "pygments_lexer": "ipython3",
   "version": "3.12.3"
  }
 },
 "nbformat": 4,
 "nbformat_minor": 5
}
