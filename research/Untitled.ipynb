{
 "cells": [
  {
   "cell_type": "code",
   "execution_count": 5,
   "id": "5d5dea3c-a85f-4728-81f4-753b99bdc864",
   "metadata": {},
   "outputs": [
    {
     "ename": "MlflowException",
     "evalue": "Failed to enforce schema of data '            id  CustomerId         Surname  CreditScore Geography  Gender  \\\n0            0    15674932  Okwudilichukwu          668    France    Male   \n1            1    15749177   Okwudiliolisa          627    France    Male   \n2            2    15694510           Hsueh          678    France    Male   \n3            3    15741417             Kao          581    France    Male   \n4            4    15766172       Chiemenam          716     Spain    Male   \n...        ...         ...             ...          ...       ...     ...   \n165029  165029    15667085            Meng          667     Spain  Female   \n165030  165030    15665521       Okechukwu          792    France    Male   \n165031  165031    15664752            Hsia          565    France    Male   \n165032  165032    15689614          Hsiung          554     Spain  Female   \n165033  165033    15732798         Ulyanov          850    France    Male   \n\n         Age  Tenure    Balance  NumOfProducts  HasCrCard  IsActiveMember  \\\n0       33.0       3       0.00              2        1.0             0.0   \n1       33.0       1       0.00              2        1.0             1.0   \n2       40.0      10       0.00              2        1.0             0.0   \n3       34.0       2  148882.54              1        1.0             1.0   \n4       33.0       5       0.00              2        1.0             1.0   \n...      ...     ...        ...            ...        ...             ...   \n165029  33.0       2       0.00              1        1.0             1.0   \n165030  35.0       3       0.00              1        0.0             0.0   \n165031  31.0       5       0.00              1        1.0             1.0   \n165032  30.0       7  161533.00              1        0.0             1.0   \n165033  31.0       1       0.00              1        1.0             0.0   \n\n        EstimatedSalary  Exited  \n0             181449.97       0  \n1              49503.50       0  \n2             184866.69       0  \n3              84560.88       0  \n4              15068.83       0  \n...                 ...     ...  \n165029        131834.75       0  \n165030        131834.45       0  \n165031        127429.56       0  \n165032         71173.03       0  \n165033         61581.79       1  \n\n[165034 rows x 14 columns]' with schema '[Tensor('float64', (-1, 11))]'. Error: This model contains a model signature with an unnamed input. Since the input data is a pandas DataFrame containing multiple columns, the input shape must be of the structure (-1, number_of_dataframe_columns). Instead, the input DataFrame passed had 14 columns and an input shape of (-1, 11) with all values within the DataFrame of scalar type. Please adjust the passed in DataFrame to match the expected structure",
     "output_type": "error",
     "traceback": [
      "\u001b[0;31m---------------------------------------------------------------------------\u001b[0m",
      "\u001b[0;31mMlflowException\u001b[0m                           Traceback (most recent call last)",
      "File \u001b[0;32m/usr/local/lib/python3.12/dist-packages/mlflow/pyfunc/__init__.py:685\u001b[0m, in \u001b[0;36m_validate_prediction_input\u001b[0;34m(data, params, input_schema, params_schema, flavor)\u001b[0m\n\u001b[1;32m    684\u001b[0m \u001b[38;5;28;01mtry\u001b[39;00m:\n\u001b[0;32m--> 685\u001b[0m     data \u001b[38;5;241m=\u001b[39m \u001b[43m_enforce_schema\u001b[49m\u001b[43m(\u001b[49m\u001b[43mdata\u001b[49m\u001b[43m,\u001b[49m\u001b[43m \u001b[49m\u001b[43minput_schema\u001b[49m\u001b[43m,\u001b[49m\u001b[43m \u001b[49m\u001b[43mflavor\u001b[49m\u001b[43m)\u001b[49m\n\u001b[1;32m    686\u001b[0m \u001b[38;5;28;01mexcept\u001b[39;00m \u001b[38;5;167;01mException\u001b[39;00m \u001b[38;5;28;01mas\u001b[39;00m e:\n\u001b[1;32m    687\u001b[0m     \u001b[38;5;66;03m# Include error in message for backwards compatibility\u001b[39;00m\n",
      "File \u001b[0;32m/usr/local/lib/python3.12/dist-packages/mlflow/models/utils.py:1177\u001b[0m, in \u001b[0;36m_enforce_schema\u001b[0;34m(pf_input, input_schema, flavor)\u001b[0m\n\u001b[1;32m   1176\u001b[0m \u001b[38;5;28;01mif\u001b[39;00m input_schema\u001b[38;5;241m.\u001b[39mis_tensor_spec():\n\u001b[0;32m-> 1177\u001b[0m     \u001b[38;5;28;01mreturn\u001b[39;00m \u001b[43m_enforce_tensor_schema\u001b[49m\u001b[43m(\u001b[49m\u001b[43mpf_input\u001b[49m\u001b[43m,\u001b[49m\u001b[43m \u001b[49m\u001b[43minput_schema\u001b[49m\u001b[43m)\u001b[49m\n\u001b[1;32m   1178\u001b[0m \u001b[38;5;28;01melif\u001b[39;00m HAS_PYSPARK \u001b[38;5;129;01mand\u001b[39;00m \u001b[38;5;28misinstance\u001b[39m(original_pf_input, SparkDataFrame):\n",
      "File \u001b[0;32m/usr/local/lib/python3.12/dist-packages/mlflow/models/utils.py:1018\u001b[0m, in \u001b[0;36m_enforce_tensor_schema\u001b[0;34m(pf_input, input_schema)\u001b[0m\n\u001b[1;32m   1017\u001b[0m \u001b[38;5;28;01mif\u001b[39;00m tensor_spec\u001b[38;5;241m.\u001b[39mshape \u001b[38;5;241m!=\u001b[39m (\u001b[38;5;241m-\u001b[39m\u001b[38;5;241m1\u001b[39m, num_input_columns):\n\u001b[0;32m-> 1018\u001b[0m     \u001b[38;5;28;01mraise\u001b[39;00m MlflowException(\n\u001b[1;32m   1019\u001b[0m         \u001b[38;5;124m\"\u001b[39m\u001b[38;5;124mThis model contains a model signature with an unnamed input. Since the \u001b[39m\u001b[38;5;124m\"\u001b[39m\n\u001b[1;32m   1020\u001b[0m         \u001b[38;5;124m\"\u001b[39m\u001b[38;5;124minput data is a pandas DataFrame containing multiple columns, \u001b[39m\u001b[38;5;124m\"\u001b[39m\n\u001b[1;32m   1021\u001b[0m         \u001b[38;5;124m\"\u001b[39m\u001b[38;5;124mthe input shape must be of the structure \u001b[39m\u001b[38;5;124m\"\u001b[39m\n\u001b[1;32m   1022\u001b[0m         \u001b[38;5;124m\"\u001b[39m\u001b[38;5;124m(-1, number_of_dataframe_columns). \u001b[39m\u001b[38;5;124m\"\u001b[39m\n\u001b[1;32m   1023\u001b[0m         \u001b[38;5;124mf\u001b[39m\u001b[38;5;124m\"\u001b[39m\u001b[38;5;124mInstead, the input DataFrame passed had \u001b[39m\u001b[38;5;132;01m{\u001b[39;00mnum_input_columns\u001b[38;5;132;01m}\u001b[39;00m\u001b[38;5;124m columns and \u001b[39m\u001b[38;5;124m\"\u001b[39m\n\u001b[1;32m   1024\u001b[0m         \u001b[38;5;124mf\u001b[39m\u001b[38;5;124m\"\u001b[39m\u001b[38;5;124man input shape of \u001b[39m\u001b[38;5;132;01m{\u001b[39;00mtensor_spec\u001b[38;5;241m.\u001b[39mshape\u001b[38;5;132;01m}\u001b[39;00m\u001b[38;5;124m with all values within the \u001b[39m\u001b[38;5;124m\"\u001b[39m\n\u001b[1;32m   1025\u001b[0m         \u001b[38;5;124m\"\u001b[39m\u001b[38;5;124mDataFrame of scalar type. Please adjust the passed in DataFrame to \u001b[39m\u001b[38;5;124m\"\u001b[39m\n\u001b[1;32m   1026\u001b[0m         \u001b[38;5;124m\"\u001b[39m\u001b[38;5;124mmatch the expected structure\u001b[39m\u001b[38;5;124m\"\u001b[39m,\n\u001b[1;32m   1027\u001b[0m         error_code\u001b[38;5;241m=\u001b[39mINVALID_PARAMETER_VALUE,\n\u001b[1;32m   1028\u001b[0m     )\n\u001b[1;32m   1029\u001b[0m new_pf_input \u001b[38;5;241m=\u001b[39m _enforce_tensor_spec(pf_input\u001b[38;5;241m.\u001b[39mto_numpy(), tensor_spec)\n",
      "\u001b[0;31mMlflowException\u001b[0m: This model contains a model signature with an unnamed input. Since the input data is a pandas DataFrame containing multiple columns, the input shape must be of the structure (-1, number_of_dataframe_columns). Instead, the input DataFrame passed had 14 columns and an input shape of (-1, 11) with all values within the DataFrame of scalar type. Please adjust the passed in DataFrame to match the expected structure",
      "\nDuring handling of the above exception, another exception occurred:\n",
      "\u001b[0;31mMlflowException\u001b[0m                           Traceback (most recent call last)",
      "Cell \u001b[0;32mIn[5], line 10\u001b[0m\n\u001b[1;32m      8\u001b[0m \u001b[38;5;66;03m# Predict on a Pandas DataFrame.\u001b[39;00m\n\u001b[1;32m      9\u001b[0m \u001b[38;5;28;01mimport\u001b[39;00m \u001b[38;5;21;01mpandas\u001b[39;00m \u001b[38;5;28;01mas\u001b[39;00m \u001b[38;5;21;01mpd\u001b[39;00m\n\u001b[0;32m---> 10\u001b[0m \u001b[43mloaded_model\u001b[49m\u001b[38;5;241;43m.\u001b[39;49m\u001b[43mpredict\u001b[49m\u001b[43m(\u001b[49m\u001b[43mpd\u001b[49m\u001b[38;5;241;43m.\u001b[39;49m\u001b[43mDataFrame\u001b[49m\u001b[43m(\u001b[49m\u001b[43mdata\u001b[49m\u001b[43m)\u001b[49m\u001b[43m)\u001b[49m\n",
      "File \u001b[0;32m/usr/local/lib/python3.12/dist-packages/mlflow/pyfunc/__init__.py:763\u001b[0m, in \u001b[0;36mPyFuncModel.predict\u001b[0;34m(self, data, params)\u001b[0m\n\u001b[1;32m    761\u001b[0m \u001b[38;5;28;01mif\u001b[39;00m schema \u001b[38;5;241m:=\u001b[39m _get_dependencies_schema_from_model(\u001b[38;5;28mself\u001b[39m\u001b[38;5;241m.\u001b[39m_model_meta):\n\u001b[1;32m    762\u001b[0m     context\u001b[38;5;241m.\u001b[39mupdate(\u001b[38;5;241m*\u001b[39m\u001b[38;5;241m*\u001b[39mschema)\n\u001b[0;32m--> 763\u001b[0m \u001b[38;5;28;01mreturn\u001b[39;00m \u001b[38;5;28;43mself\u001b[39;49m\u001b[38;5;241;43m.\u001b[39;49m\u001b[43m_predict\u001b[49m\u001b[43m(\u001b[49m\u001b[43mdata\u001b[49m\u001b[43m,\u001b[49m\u001b[43m \u001b[49m\u001b[43mparams\u001b[49m\u001b[43m)\u001b[49m\n",
      "File \u001b[0;32m/usr/local/lib/python3.12/dist-packages/mlflow/pyfunc/__init__.py:796\u001b[0m, in \u001b[0;36mPyFuncModel._predict\u001b[0;34m(self, data, params)\u001b[0m\n\u001b[1;32m    794\u001b[0m \u001b[38;5;28mself\u001b[39m\u001b[38;5;241m.\u001b[39minput_schema \u001b[38;5;241m=\u001b[39m \u001b[38;5;28mself\u001b[39m\u001b[38;5;241m.\u001b[39mmetadata\u001b[38;5;241m.\u001b[39mget_input_schema()\n\u001b[1;32m    795\u001b[0m \u001b[38;5;28mself\u001b[39m\u001b[38;5;241m.\u001b[39mparams_schema \u001b[38;5;241m=\u001b[39m \u001b[38;5;28mself\u001b[39m\u001b[38;5;241m.\u001b[39mmetadata\u001b[38;5;241m.\u001b[39mget_params_schema()\n\u001b[0;32m--> 796\u001b[0m data, params \u001b[38;5;241m=\u001b[39m \u001b[43m_validate_prediction_input\u001b[49m\u001b[43m(\u001b[49m\n\u001b[1;32m    797\u001b[0m \u001b[43m    \u001b[49m\u001b[43mdata\u001b[49m\u001b[43m,\u001b[49m\u001b[43m \u001b[49m\u001b[43mparams\u001b[49m\u001b[43m,\u001b[49m\u001b[43m \u001b[49m\u001b[38;5;28;43mself\u001b[39;49m\u001b[38;5;241;43m.\u001b[39;49m\u001b[43minput_schema\u001b[49m\u001b[43m,\u001b[49m\u001b[43m \u001b[49m\u001b[38;5;28;43mself\u001b[39;49m\u001b[38;5;241;43m.\u001b[39;49m\u001b[43mparams_schema\u001b[49m\u001b[43m,\u001b[49m\u001b[43m \u001b[49m\u001b[38;5;28;43mself\u001b[39;49m\u001b[38;5;241;43m.\u001b[39;49m\u001b[43mloader_module\u001b[49m\n\u001b[1;32m    798\u001b[0m \u001b[43m\u001b[49m\u001b[43m)\u001b[49m\n\u001b[1;32m    799\u001b[0m params_arg \u001b[38;5;241m=\u001b[39m inspect\u001b[38;5;241m.\u001b[39msignature(\u001b[38;5;28mself\u001b[39m\u001b[38;5;241m.\u001b[39m_predict_fn)\u001b[38;5;241m.\u001b[39mparameters\u001b[38;5;241m.\u001b[39mget(\u001b[38;5;124m\"\u001b[39m\u001b[38;5;124mparams\u001b[39m\u001b[38;5;124m\"\u001b[39m)\n\u001b[1;32m    800\u001b[0m \u001b[38;5;28;01mif\u001b[39;00m params_arg \u001b[38;5;129;01mand\u001b[39;00m params_arg\u001b[38;5;241m.\u001b[39mkind \u001b[38;5;241m!=\u001b[39m inspect\u001b[38;5;241m.\u001b[39mParameter\u001b[38;5;241m.\u001b[39mVAR_KEYWORD:\n",
      "File \u001b[0;32m/usr/local/lib/python3.12/dist-packages/mlflow/pyfunc/__init__.py:688\u001b[0m, in \u001b[0;36m_validate_prediction_input\u001b[0;34m(data, params, input_schema, params_schema, flavor)\u001b[0m\n\u001b[1;32m    685\u001b[0m         data \u001b[38;5;241m=\u001b[39m _enforce_schema(data, input_schema, flavor)\n\u001b[1;32m    686\u001b[0m     \u001b[38;5;28;01mexcept\u001b[39;00m \u001b[38;5;167;01mException\u001b[39;00m \u001b[38;5;28;01mas\u001b[39;00m e:\n\u001b[1;32m    687\u001b[0m         \u001b[38;5;66;03m# Include error in message for backwards compatibility\u001b[39;00m\n\u001b[0;32m--> 688\u001b[0m         \u001b[38;5;28;01mraise\u001b[39;00m MlflowException\u001b[38;5;241m.\u001b[39minvalid_parameter_value(\n\u001b[1;32m    689\u001b[0m             \u001b[38;5;124mf\u001b[39m\u001b[38;5;124m\"\u001b[39m\u001b[38;5;124mFailed to enforce schema of data \u001b[39m\u001b[38;5;124m'\u001b[39m\u001b[38;5;132;01m{\u001b[39;00mdata\u001b[38;5;132;01m}\u001b[39;00m\u001b[38;5;124m'\u001b[39m\u001b[38;5;124m \u001b[39m\u001b[38;5;124m\"\u001b[39m\n\u001b[1;32m    690\u001b[0m             \u001b[38;5;124mf\u001b[39m\u001b[38;5;124m\"\u001b[39m\u001b[38;5;124mwith schema \u001b[39m\u001b[38;5;124m'\u001b[39m\u001b[38;5;132;01m{\u001b[39;00minput_schema\u001b[38;5;132;01m}\u001b[39;00m\u001b[38;5;124m'\u001b[39m\u001b[38;5;124m. \u001b[39m\u001b[38;5;124m\"\u001b[39m\n\u001b[1;32m    691\u001b[0m             \u001b[38;5;124mf\u001b[39m\u001b[38;5;124m\"\u001b[39m\u001b[38;5;124mError: \u001b[39m\u001b[38;5;132;01m{\u001b[39;00me\u001b[38;5;132;01m}\u001b[39;00m\u001b[38;5;124m\"\u001b[39m,\n\u001b[1;32m    692\u001b[0m         )\n\u001b[1;32m    693\u001b[0m params \u001b[38;5;241m=\u001b[39m _enforce_params_schema(params, params_schema)\n\u001b[1;32m    694\u001b[0m \u001b[38;5;28;01mif\u001b[39;00m HAS_PYSPARK \u001b[38;5;129;01mand\u001b[39;00m \u001b[38;5;28misinstance\u001b[39m(data, SparkDataFrame):\n",
      "\u001b[0;31mMlflowException\u001b[0m: Failed to enforce schema of data '            id  CustomerId         Surname  CreditScore Geography  Gender  \\\n0            0    15674932  Okwudilichukwu          668    France    Male   \n1            1    15749177   Okwudiliolisa          627    France    Male   \n2            2    15694510           Hsueh          678    France    Male   \n3            3    15741417             Kao          581    France    Male   \n4            4    15766172       Chiemenam          716     Spain    Male   \n...        ...         ...             ...          ...       ...     ...   \n165029  165029    15667085            Meng          667     Spain  Female   \n165030  165030    15665521       Okechukwu          792    France    Male   \n165031  165031    15664752            Hsia          565    France    Male   \n165032  165032    15689614          Hsiung          554     Spain  Female   \n165033  165033    15732798         Ulyanov          850    France    Male   \n\n         Age  Tenure    Balance  NumOfProducts  HasCrCard  IsActiveMember  \\\n0       33.0       3       0.00              2        1.0             0.0   \n1       33.0       1       0.00              2        1.0             1.0   \n2       40.0      10       0.00              2        1.0             0.0   \n3       34.0       2  148882.54              1        1.0             1.0   \n4       33.0       5       0.00              2        1.0             1.0   \n...      ...     ...        ...            ...        ...             ...   \n165029  33.0       2       0.00              1        1.0             1.0   \n165030  35.0       3       0.00              1        0.0             0.0   \n165031  31.0       5       0.00              1        1.0             1.0   \n165032  30.0       7  161533.00              1        0.0             1.0   \n165033  31.0       1       0.00              1        1.0             0.0   \n\n        EstimatedSalary  Exited  \n0             181449.97       0  \n1              49503.50       0  \n2             184866.69       0  \n3              84560.88       0  \n4              15068.83       0  \n...                 ...     ...  \n165029        131834.75       0  \n165030        131834.45       0  \n165031        127429.56       0  \n165032         71173.03       0  \n165033         61581.79       1  \n\n[165034 rows x 14 columns]' with schema '[Tensor('float64', (-1, 11))]'. Error: This model contains a model signature with an unnamed input. Since the input data is a pandas DataFrame containing multiple columns, the input shape must be of the structure (-1, number_of_dataframe_columns). Instead, the input DataFrame passed had 14 columns and an input shape of (-1, 11) with all values within the DataFrame of scalar type. Please adjust the passed in DataFrame to match the expected structure"
     ]
    }
   ],
   "source": [
    "import mlflow\n",
    "import pandas as pd\n",
    "logged_model = 'runs:/1b637062020d4da79e3c7866bfd6a3aa/model'\n",
    "\n",
    "# Load model as a PyFuncModel.\n",
    "loaded_model = mlflow.pyfunc.load_model(logged_model)\n",
    "data = pd.read_csv('data/train.csv')\n",
    "# Predict on a Pandas DataFrame.\n",
    "loaded_model.predict(pd.DataFrame(data))"
   ]
  },
  {
   "cell_type": "code",
   "execution_count": 2,
   "id": "5d032c40-fcef-4186-8c62-e40d4563287c",
   "metadata": {},
   "outputs": [],
   "source": []
  },
  {
   "cell_type": "code",
   "execution_count": 3,
   "id": "187241f9-6e2f-43cf-ae3b-aa09462e4ae9",
   "metadata": {},
   "outputs": [
    {
     "name": "stderr",
     "output_type": "stream",
     "text": [
      "2024/12/15 13:15:29 WARNING mlflow.utils.git_utils: Failed to import Git (the Git executable is probably not on your PATH), so Git SHA is not available. Error: Failed to initialize: Bad git executable.\n",
      "The git executable must be specified in one of the following ways:\n",
      "    - be included in your $PATH\n",
      "    - be set via $GIT_PYTHON_GIT_EXECUTABLE\n",
      "    - explicitly set via git.refresh(<full-path-to-git-executable>)\n",
      "\n",
      "All git commands will error until this is rectified.\n",
      "\n",
      "This initial message can be silenced or aggravated in the future by setting the\n",
      "$GIT_PYTHON_REFRESH environment variable. Use one of the following values:\n",
      "    - quiet|q|silence|s|silent|none|n|0: for no message or exception\n",
      "    - warn|w|warning|log|l|1: for a warning message (logging level CRITICAL, displayed by default)\n",
      "    - error|e|exception|raise|r|2: for a raised exception\n",
      "\n",
      "Example:\n",
      "    export GIT_PYTHON_REFRESH=quiet\n",
      "\n"
     ]
    },
    {
     "name": "stdout",
     "output_type": "stream",
     "text": [
      "Score: 0.6666666666666666\n",
      "Model saved in run 45b995810d6e40c68278c703de57221a\n",
      "🏃 View run sincere-finch-718 at: http://mlflow_server:5000/#/experiments/0/runs/45b995810d6e40c68278c703de57221a\n",
      "🧪 View experiment at: http://mlflow_server:5000/#/experiments/0\n"
     ]
    }
   ],
   "source": []
  },
  {
   "cell_type": "code",
   "execution_count": 9,
   "id": "ed952d76-785e-4683-b43c-65608452f980",
   "metadata": {},
   "outputs": [
    {
     "name": "stdout",
     "output_type": "stream",
     "text": [
      "🏃 View run amazing-snake-69 at: http://mlflow_server:5000/#/experiments/1/runs/ac20c4e663774911a20f668b2af83569\n",
      "🧪 View experiment at: http://mlflow_server:5000/#/experiments/1\n"
     ]
    }
   ],
   "source": [
    "mlflow.end_run()"
   ]
  },
  {
   "cell_type": "code",
   "execution_count": null,
   "id": "6199770b-9d3a-4838-8c02-44564f409cc7",
   "metadata": {},
   "outputs": [],
   "source": []
  },
  {
   "cell_type": "code",
   "execution_count": null,
   "id": "89af3706-bba5-4955-9cd0-4fc06bb58a7d",
   "metadata": {},
   "outputs": [],
   "source": []
  }
 ],
 "metadata": {
  "kernelspec": {
   "display_name": "Python 3 (ipykernel)",
   "language": "python",
   "name": "python3"
  },
  "language_info": {
   "codemirror_mode": {
    "name": "ipython",
    "version": 3
   },
   "file_extension": ".py",
   "mimetype": "text/x-python",
   "name": "python",
   "nbconvert_exporter": "python",
   "pygments_lexer": "ipython3",
   "version": "3.12.3"
  }
 },
 "nbformat": 4,
 "nbformat_minor": 5
}
